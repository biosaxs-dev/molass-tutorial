{
 "cells": [
  {
   "cell_type": "markdown",
   "id": "726ae1ac",
   "metadata": {},
   "source": [
    "(rank_estimation)=\n",
    "# Rank Estimation\n",
    "\n",
    "If interparticle interaction effects can be ignored, the rank of the data set (as a matrix) can be considered equal to the number of components. For example under such assumption, if the number of components is two, the rank is also two. In this sense, the rank of UV data is equal to the number of components because interparticle effects are known to appear only for X-ray data (in this UV vs. X-ray contrast).\n",
    "\n",
    "To put it practically, what we usually have to do is such that we will first idetify the component peaks by decomposition and then decide the rank of each component peak to be either 1 ro 2. For example, in the case of “SAMPLE1” data, the ranks of component peaks are suumarized in the table below in the order of elution.\n",
    "\n",
    "| component  peak   | rank  |\n",
    "| :---------------- | ----: |\n",
    "| first (left) peak |  1    |\n",
    "| bump on the right side of the first peak | 1 |\n",
    "| second peak | 1 |\n",
    "\n",
    "The ranks are all 1 (and this estimation as a whole will be denoted by [1,1,1]) since there observed are no significant signs of interparticle effects.\n",
    "\n",
    "We will explore briefly about this rank estimation problem below."
   ]
  },
  {
   "cell_type": "markdown",
   "id": "ac10fb0f",
   "metadata": {},
   "source": [
    "## Learning Points\n",
    "* component peak\n",
    "* ssd.plot_component(ratio_curve=True)\n",
    "* scds = decomposition.compute_scds()\n",
    "* rank = scd_to_rank(scd)"
   ]
  },
  {
   "cell_type": "markdown",
   "id": "d26f36be",
   "metadata": {},
   "source": [
    "## Human Observation\n",
    "\n",
    "As can be speculated from the examples shown so far, human observation plays a key role in the rank estimation. Roughly speaking, the rank of data is at least the number of visible peaks.\n",
    "\n",
    "By observig the elution curves, humans can guess the number of components. For example as in the case of SAMPLE1 data, like decomposing into three seems better than two due to the bump in the right side of the first visible peak. See the difference in the following ddecompositons: the first one with two components (from default rough recongnition) and the second one with explictily specified three components."
   ]
  },
  {
   "cell_type": "code",
   "execution_count": null,
   "id": "da0e20a1",
   "metadata": {},
   "outputs": [],
   "source": [
    "from molass import get_version\n",
    "assert get_version() >= '0.2.0', \"This script requires molass version 0.2.0 or higher.\"\n",
    "from molass_data import SAMPLE1\n",
    "from molass.DataObjects import SecSaxsData as SSD\n",
    "ssd = SSD(SAMPLE1)\n",
    "trimmed_ssd = ssd.trimmed_copy()\n",
    "corrected_ssd = trimmed_ssd.corrected_copy()\n",
    "decomposition = corrected_ssd.quick_decomposition();\n",
    "decomposition.plot_components();\n"
   ]
  },
  {
   "cell_type": "code",
   "execution_count": null,
   "id": "fd7b4b16",
   "metadata": {},
   "outputs": [],
   "source": [
    "decomposition_nc3 = corrected_ssd.quick_decomposition(num_components=3)\n",
    "decomposition_nc3.plot_components();"
   ]
  },
  {
   "cell_type": "markdown",
   "id": "d19f782d",
   "metadata": {},
   "source": [
    "## Absorbance / Scattering Ratio\n",
    "\n",
    "Sometimes, it can be useful if we observe the curve of the ratio variation between the absorbance and the scattering. We can plot it with the ratio_curve option as shown below."
   ]
  },
  {
   "cell_type": "code",
   "execution_count": null,
   "id": "8c2b07d3",
   "metadata": {},
   "outputs": [],
   "source": [
    "corrected_ssd.plot_compact(ratio_curve=True, title=\"Tutorial Data - Compact Plot with Ratio Curve\");"
   ]
  },
  {
   "cell_type": "markdown",
   "id": "76d5132e",
   "metadata": {},
   "source": [
    "## Concentration Dependence\n",
    "### Relation between SCD and Rank\n",
    "Another method of rank estimastion is to compute the SCD - Score of Concentration Dependence - of each component peak. Using SCD's, you can roughly distinguish the rank of a component peak according the the table below.\n",
    "\n",
    "| SCD value range  |  Rank distinction |\n",
    "| ---------------- | ----------------- |\n",
    "| less than 2      |  probably  1      |\n",
    "| between 2 and 5  |  uncertain        |\n",
    "| greater than 5   |  probably  2      |\n",
    "\n",
    "We will give some examples of SCD computation below.\n"
   ]
  },
  {
   "cell_type": "markdown",
   "id": "a80199b9",
   "metadata": {},
   "source": [
    "\n",
    "### SAMPLE1 - Case of no concentration dependence"
   ]
  },
  {
   "cell_type": "code",
   "execution_count": null,
   "id": "09954325",
   "metadata": {},
   "outputs": [],
   "source": [
    "scds = decomposition_nc3.compute_scds()\n",
    "scds"
   ]
  },
  {
   "cell_type": "code",
   "execution_count": null,
   "id": "fb98761c",
   "metadata": {},
   "outputs": [],
   "source": [
    "from molass.Backward.RankEstimator import scd_to_rank\n",
    "ranks = [scd_to_rank(scd) for scd in scds]\n",
    "for scd, rank in zip(scds, ranks):\n",
    "    print(f\"SCD: {scd}, Rank: {rank}\")"
   ]
  },
  {
   "cell_type": "markdown",
   "id": "cca7dc7b",
   "metadata": {},
   "source": [
    "### SAMPLE3 - Case of significant concentration dependence"
   ]
  },
  {
   "cell_type": "code",
   "execution_count": null,
   "id": "305fce53",
   "metadata": {},
   "outputs": [],
   "source": [
    "from molass_data import SAMPLE3\n",
    "ssd3 = SSD(SAMPLE3)\n",
    "decomposition3 = ssd3.quick_decomposition()\n",
    "scds = decomposition3.compute_scds()\n",
    "scds"
   ]
  },
  {
   "cell_type": "code",
   "execution_count": null,
   "id": "861fadc8",
   "metadata": {},
   "outputs": [],
   "source": [
    "ranks = [scd_to_rank(scd) for scd in scds]\n",
    "for scd, rank in zip(scds, ranks):\n",
    "    print(f\"SCD: {scd}, Rank: {rank}\")"
   ]
  }
 ],
 "metadata": {
  "kernelspec": {
   "display_name": "Python 3",
   "language": "python",
   "name": "python3"
  },
  "language_info": {
   "codemirror_mode": {
    "name": "ipython",
    "version": 3
   },
   "file_extension": ".py",
   "mimetype": "text/x-python",
   "name": "python",
   "nbconvert_exporter": "python",
   "pygments_lexer": "ipython3",
   "version": "3.12.10"
  }
 },
 "nbformat": 4,
 "nbformat_minor": 5
}
