{
 "cells": [
  {
   "cell_type": "markdown",
   "id": "b5ee9972",
   "metadata": {},
   "source": [
    "(low_rank_factorization)=\n",
    "# Low Rank Factorization\n",
    "\n",
    "In this chapter, we discuss decomposition of the sample into components. The first step in decompostion procedure is performed physically by the chromatography device and it achieves that purpose to a certain extent. However, that is not enough especially in cases where the peaks do not separate well from each other. In general, including such inconvenient cases, we can further decompose programmatically. Mathematically, this decomposition corresponds to the low rank factorizaion of matrices. We will show here how you can achieve this with Molass Library."
   ]
  },
  {
   "cell_type": "markdown",
   "id": "976bfbfc",
   "metadata": {},
   "source": [
    "## Learning Points\n",
    "\n",
    "* decomposition = ssd.quick_decomposition(options)\n",
    "  * options:\n",
    "    * num_comonents=n\n",
    "    * proportions=[p1, p2, ...]\n",
    "    * num_plates=1440\n",
    "    * ranks=[r1, r2, ...]\n",
    "* decomposition.get_proportions()"
   ]
  },
  {
   "cell_type": "markdown",
   "id": "a5a87e21",
   "metadata": {},
   "source": [
    "## Default Decomposition\n",
    "\n",
    "In the default setting, i.e. without optional parameters, decomposition will be simply performed using the visible peaks.\n",
    "\n",
    "For example, in case of \"SAMPLE1\", number of components will be two as shown below. "
   ]
  },
  {
   "cell_type": "code",
   "execution_count": null,
   "id": "6ecfe58f",
   "metadata": {},
   "outputs": [],
   "source": [
    "from molass import get_version\n",
    "assert get_version() >= '0.6.0', \"This tutorial requires molass version 0.6.0 or higher.\"\n",
    "from molass_data import SAMPLE1\n",
    "from molass.DataObjects import SecSaxsData as SSD\n",
    "ssd = SSD(SAMPLE1)\n",
    "ssd.plot_compact();"
   ]
  },
  {
   "cell_type": "code",
   "execution_count": null,
   "id": "91f4680a",
   "metadata": {},
   "outputs": [],
   "source": [
    "trimmed_ssd = ssd.trimmed_copy()\n",
    "corrected_ssd = trimmed_ssd.corrected_copy()\n",
    "decomposition = corrected_ssd.quick_decomposition()\n",
    "plot1 = decomposition.plot_components() "
   ]
  },
  {
   "cell_type": "markdown",
   "id": "99b57ab1",
   "metadata": {},
   "source": [
    "## Number of Components\n",
    "\n",
    "As stated in the first chapter, \"SAMPLE1\" shows a bulk in the right (descending) side of the first peak. This is a sign which indicates the existance of another (probably slightly different) component in the first peak. To take into account this observation, the simplest way is to explicitly specify the number of comonents as follows."
   ]
  },
  {
   "cell_type": "code",
   "execution_count": null,
   "id": "fdb9e8c3",
   "metadata": {},
   "outputs": [],
   "source": [
    "decomposition3 = corrected_ssd.quick_decomposition(num_components=3)\n",
    "plot2 = decomposition3.plot_components(title=\"Decomposition of Sample1 (num_components=3)\") "
   ]
  },
  {
   "cell_type": "markdown",
   "id": "c03423b0",
   "metadata": {},
   "source": [
    "## Area Proportions\n",
    "\n",
    "Another and a little more precise way is to specify the proportions of each component. To achieve this, get the current proportions first as follows."
   ]
  },
  {
   "cell_type": "code",
   "execution_count": null,
   "id": "bbd4f92e",
   "metadata": {},
   "outputs": [],
   "source": [
    "proportions = decomposition3.get_proportions()\n",
    "proportions"
   ]
  },
  {
   "cell_type": "markdown",
   "id": "16a060e0",
   "metadata": {},
   "source": [
    "Then, modify them, for example, as follows."
   ]
  },
  {
   "cell_type": "code",
   "execution_count": null,
   "id": "3abe4984",
   "metadata": {},
   "outputs": [],
   "source": [
    "modified_decomposition = corrected_ssd.quick_decomposition(num_components=3, proportions=[0.32, 0.20, 0.48])\n",
    "plot2 = modified_decomposition.plot_components(title=\"Modified Decomposition of Sample1 (num_components=3, proportions=[0.32, 0.20, 0.48])\") "
   ]
  },
  {
   "cell_type": "markdown",
   "id": "07c1025d",
   "metadata": {},
   "source": [
    "Since the proportions to be specified are arbitrary, you should have a good reason for the appropriate proportions. "
   ]
  },
  {
   "cell_type": "markdown",
   "id": "2795c0c4",
   "metadata": {},
   "source": [
    "## Unrealistic Decomposition (Under-determinedness)\n",
    "\n",
    "In this above example, the decomposition may have seemed rather obvious. However, in reality, it is not that simple.\n",
    "\n",
    "See the example below. Molass decomposes this sample (SAMPLE2) into unrealistic components."
   ]
  },
  {
   "cell_type": "code",
   "execution_count": null,
   "id": "a4b1652e",
   "metadata": {},
   "outputs": [],
   "source": [
    "from molass_data import SAMPLE2\n",
    "ssd2 = SSD(SAMPLE2)\n",
    "trimmed_ssd2 = ssd2.trimmed_copy()\n",
    "corrected_ssd2 = trimmed_ssd2.corrected_copy()"
   ]
  },
  {
   "cell_type": "code",
   "execution_count": null,
   "id": "de6d115a",
   "metadata": {},
   "outputs": [],
   "source": [
    "decomposition23 = corrected_ssd2.quick_decomposition(num_components=3)\n",
    "plot4 = decomposition23.plot_components(title=\"Decomposition of Sample2 (num_components=3)\")"
   ]
  },
  {
   "cell_type": "markdown",
   "id": "bbb03f85",
   "metadata": {},
   "source": [
    "This decomposition does fit the data, but peak widths should not vary irregularly like this according to the classical theory of chromatography."
   ]
  },
  {
   "cell_type": "markdown",
   "id": "354a1a09",
   "metadata": {},
   "source": [
    "## Theoretical Number of Plates (Plate Number)\n",
    "\n",
    "The classical theory states that the peak widths should increase regularly as the fucntion of retention time (see the note below).\n",
    "To take into account this regularity, we can specify the plate number as follow.\n",
    "\n",
    "```{note}\n",
    "The plate number is defined (or assumed) as follows.\n",
    "\n",
    "$ \\frac{t_R^2}{\\sigma^2} = N \\qquad or \\qquad \\frac{t_R^2}{\\sigma^2 + \\tau^2 - \\sigma|\\tau|/5.577 } = N $\n",
    "\n",
    "where\n",
    "\n",
    "* $t_R$ : retention time (measured from injection)\n",
    "* $\\sigma$ : standard deviation of the component peak\n",
    "* $\\tau$ : asymmtry parameter in the EGH model\n",
    "\n",
    "This formula indicates the above rule on peak widths.\n",
    "\n",
    "More precise discussion is planned to be described in [Molass Essence](https://molass-saxs.github.io/molass-essence/chapters/60/plate-theory.html#modified-formulae-for-asymmetric-models).\n",
    "```"
   ]
  },
  {
   "cell_type": "code",
   "execution_count": null,
   "id": "1c26bae9",
   "metadata": {},
   "outputs": [],
   "source": [
    "decomposition23n = corrected_ssd2.quick_decomposition(num_components=3, num_plates=14400)   # 14400 = 48000 * 30cm/100cm\n",
    "plot5 = decomposition23n.plot_components(title=\"Decomposition of Sample2 (num_components=3, num_plates=14400)\")"
   ]
  },
  {
   "cell_type": "markdown",
   "id": "93b63d7a",
   "metadata": {},
   "source": [
    "In this revised decomposition plot, the component curves are more realistic than before (in the sense of classical plate theory) while they do not fit the data well. This worsened fit indicates that this result is not satisfactory either, but it leads to an advanced understanding that this sample can not be decomposed so easily as shown previously (as unrealistic one).  "
   ]
  },
  {
   "cell_type": "markdown",
   "id": "2000fe60",
   "metadata": {},
   "source": [
    "## Component Ranks (Interparticle Interaction Effects)\n",
    "\n",
    "### As Rank 1 Component\n",
    "\n",
    "Molass by default regards each component as rank 1. This means that the component data can be expressed as a matrix defined as the matrix multiplication of a transposed column vector (n by 1 matrix) and a row vector (1 by m matrix).\n",
    "\n",
    "However, there are cases where this assumption is not appropriate. For example, see the bending Giunier plot of \"SAMPLE3\" shown below, which does not obey the law.\n",
    "\n",
    "```{note}\n",
    "Precise discussion is planned to be described in [Molass Essence](https://molass-saxs.github.io/molass-essence/).\n",
    "```"
   ]
  },
  {
   "cell_type": "code",
   "execution_count": null,
   "id": "e20e102d",
   "metadata": {},
   "outputs": [],
   "source": [
    "from molass_data import SAMPLE3\n",
    "ssd3 = SSD(SAMPLE3)"
   ]
  },
  {
   "cell_type": "code",
   "execution_count": null,
   "id": "bd181173",
   "metadata": {},
   "outputs": [],
   "source": [
    "decomposition31 = ssd3.quick_decomposition()\n",
    "plot6 = decomposition31.plot_components(title=\"Sample3 as rank 1\")"
   ]
  },
  {
   "cell_type": "markdown",
   "id": "7ff5b172",
   "metadata": {},
   "source": [
    "### As Rank 2 Component\n",
    "\n",
    "The above failure can be considered as a result of the false assumption that the rank of the component peak is one. To fix this, specify the rank as two. This will result in the expected linear Guinier plot shown below."
   ]
  },
  {
   "cell_type": "code",
   "execution_count": null,
   "id": "76281fd0",
   "metadata": {},
   "outputs": [],
   "source": [
    "decomposition31 = ssd3.quick_decomposition()\n",
    "decomposition31.update_xr_ranks(ranks=[2]) \n",
    "plot6 = decomposition31.plot_components(title=\"SAMPLE3 as rank 2\")"
   ]
  },
  {
   "cell_type": "markdown",
   "id": "8bb49925",
   "metadata": {},
   "source": [
    "We will explore more on how to estimate the ranks in the next chapter [Rank Estimation](rank_estimation)."
   ]
  },
  {
   "cell_type": "markdown",
   "id": "bc0099eb",
   "metadata": {},
   "source": [
    "## Elution Curve Modeling\n",
    "\n",
    "To achieve the decomposition, Molass can use different curve models.\n",
    "\n",
    "* EGH: Exponential Gaussian Hybrid (default)\n",
    "* SDM: Stochastic Dispersive Model \n",
    "* EDM: Equilibrium Dispersive Model\n",
    "\n",
    "By default, EGH is used. As of molass 0.6, other models can be used after the default decomposition has been achieved. See [Advanced Elution Models](advanced_elution_models) for how to use them for further improvement.\n"
   ]
  }
 ],
 "metadata": {
  "kernelspec": {
   "display_name": "Python 3",
   "language": "python",
   "name": "python3"
  },
  "language_info": {
   "codemirror_mode": {
    "name": "ipython",
    "version": 3
   },
   "file_extension": ".py",
   "mimetype": "text/x-python",
   "name": "python",
   "nbconvert_exporter": "python",
   "pygments_lexer": "ipython3",
   "version": "3.12.10"
  }
 },
 "nbformat": 4,
 "nbformat_minor": 5
}
