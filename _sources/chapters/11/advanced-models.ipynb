{
 "cells": [
  {
   "cell_type": "markdown",
   "id": "dd50fef2",
   "metadata": {},
   "source": [
    "(advanced_elution_models)=\n",
    "# Advanced Elution Models\n",
    "\n",
    "Although we have not been explicit so far in the decomposition discussion, we have used an elution model called EGH – Exponential-Gaussian hybrid – to express each component elution. The EGH model was introduced to enable asymmetric peak fitting. It is used as the default model because it is \"mathematically simple and numerically stable.\" However, it is so flexible that there is a risk it can fit unrealistic decompositions.\n",
    "To cope with this issue, advanced models are introduced.\n",
    "\n",
    "## Preliminary Decomposition\n",
    "\n",
    "As an example, let us examine the best result using the default EGH model from the previous chapter. Note that the proportins [3, 1.86, 1] used below attained the minimum objective function value."
   ]
  },
  {
   "cell_type": "code",
   "execution_count": null,
   "id": "405a042a",
   "metadata": {},
   "outputs": [],
   "source": [
    "from molass import get_version\n",
    "assert get_version() >= '0.6.0', \"This tutorial requires molass version 0.6.0 or higher.\"\n",
    "from molass_data import SAMPLE4\n",
    "from molass.DataObjects import SecSaxsData as SSD\n",
    "ssd = SSD(SAMPLE4)\n",
    "trimmed_ssd = ssd.trimmed_copy()\n",
    "corrected_ssd = trimmed_ssd.corrected_copy()\n",
    "decomposition = corrected_ssd.quick_decomposition(proportions=[3., 1.85714286, 1.])\n",
    "decomposition.plot_components(title=\"EGH decomposition of sample4 with proportions [3, 1.86, 1]\");"
   ]
  },
  {
   "cell_type": "markdown",
   "id": "6f51c5e3",
   "metadata": {},
   "source": [
    "## Stochastic Dispersive Model\n",
    "\n",
    "One of the advanced models is SDM - Stochastic Dispersive Model. To use this model do as follows. Details of SDM will be described in [Molass Essence](https://molass-saxs.github.io/molass-essence/chapters/60/stochastic-theory.html#stochastic-dispersive-model)."
   ]
  },
  {
   "cell_type": "code",
   "execution_count": null,
   "id": "db41d97e",
   "metadata": {},
   "outputs": [],
   "source": [
    "sdm_decomposition = decomposition.optimize_with_model('SDM')\n",
    "sdm_decomposition.plot_components(title=\"SDM decomposition of sample4 from EGH result\");"
   ]
  },
  {
   "cell_type": "markdown",
   "id": "c1667e66",
   "metadata": {},
   "source": [
    "## Equilibrium Dispersive Model\n",
    "\n",
    "Another advanced models is EDM - Equilibrium Dispersive Model. To use this model do as follows. Details of SDM will be described in [Molass Essence](https://molass-saxs.github.io/molass-essence/chapters/60/kinetic-theory.html#equilibrium-dsipersive-model)."
   ]
  },
  {
   "cell_type": "code",
   "execution_count": null,
   "id": "2eeb2d1d",
   "metadata": {},
   "outputs": [],
   "source": [
    "edm_decomposition = decomposition.optimize_with_model('EDM')\n",
    "edm_decomposition.plot_components(title=\"EDM decomposition of sample4 from EGH result\");"
   ]
  }
 ],
 "metadata": {
  "kernelspec": {
   "display_name": "Python 3",
   "language": "python",
   "name": "python3"
  },
  "language_info": {
   "codemirror_mode": {
    "name": "ipython",
    "version": 3
   },
   "file_extension": ".py",
   "mimetype": "text/x-python",
   "name": "python",
   "nbconvert_exporter": "python",
   "pygments_lexer": "ipython3",
   "version": "3.12.10"
  }
 },
 "nbformat": 4,
 "nbformat_minor": 5
}
