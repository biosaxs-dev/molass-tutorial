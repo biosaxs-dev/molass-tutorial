{
 "cells": [
  {
   "cell_type": "markdown",
   "id": "b5ee9972",
   "metadata": {},
   "source": [
    "# Electron Density Retrieval\n",
    "\n",
    "SAXS Theory explaines how the X-ray beam is scattered by the sample particles.\n",
    "Our final analysis step is to solve the inverse problem of determining the particle shape or its electron density from a scattering curve which has been so far computed to be a good representation of the scattered X-ray intensities.\n",
    "\n",
    "For this purpose, [DENSS](https://tdgrant.com/) is now the most trusted program in the open source software, for which Molass has a simple wrapper as shown below."
   ]
  },
  {
   "cell_type": "markdown",
   "id": "41e83fdc",
   "metadata": {},
   "source": [
    "## Learning Points\n",
    "* jcurve_array = decomposition.get_xr_components()[0].get_jcurve_array()\n",
    "* run_denss(jcurve_array)\n",
    "* show_mrc('denss_result.mrc')"
   ]
  },
  {
   "cell_type": "markdown",
   "id": "ea3e44ed",
   "metadata": {},
   "source": [
    "## How to Run DENSS\n",
    "\n",
    "First, get a better scattering curve by decomposition."
   ]
  },
  {
   "cell_type": "code",
   "execution_count": null,
   "id": "6ecfe58f",
   "metadata": {},
   "outputs": [],
   "source": [
    "from molass import get_version\n",
    "assert get_version() >= '0.6.2', \"This tutorial requires molass version 0.6.2 or higher.\"\n",
    "from molass_data import SAMPLE1\n",
    "from molass.DataObjects import SecSaxsData as SSD\n",
    "ssd = SSD(SAMPLE1)\n",
    "trimmed_ssd = ssd.trimmed_copy()\n",
    "corrected_ssd = trimmed_ssd.corrected_copy()\n",
    "decomposition = corrected_ssd.quick_decomposition(num_components=3)\n",
    "decomposition.plot_components() "
   ]
  },
  {
   "cell_type": "markdown",
   "id": "8603764e",
   "metadata": {},
   "source": [
    "Then, selecting one of the components, run DENSS as follows."
   ]
  },
  {
   "cell_type": "code",
   "execution_count": null,
   "id": "05a5f405",
   "metadata": {},
   "outputs": [],
   "source": [
    "from molass.SAXS.DenssTools import run_denss\n",
    "# Get, for example, the first component's scattering curve as an array\n",
    "jcurve_array = decomposition.get_xr_components()[0].get_jcurve_array()\n",
    "output_folder = \"temp\"\n",
    "run_denss(jcurve_array, output_folder=output_folder)    "
   ]
  },
  {
   "cell_type": "markdown",
   "id": "e2499702",
   "metadata": {},
   "source": [
    "## How to Show the Result\n",
    "The result can be visualized as follows."
   ]
  },
  {
   "cell_type": "code",
   "execution_count": null,
   "id": "ccae35bc",
   "metadata": {},
   "outputs": [],
   "source": [
    "import matplotlib.pyplot as plt\n",
    "from molass.SAXS.MrcViewer import show_mrc\n",
    "# %matplotlib widget\n",
    "%matplotlib inline\n",
    "show_mrc(output_folder + '/denss_result.mrc');"
   ]
  }
 ],
 "metadata": {
  "kernelspec": {
   "display_name": "Python 3",
   "language": "python",
   "name": "python3"
  },
  "language_info": {
   "codemirror_mode": {
    "name": "ipython",
    "version": 3
   },
   "file_extension": ".py",
   "mimetype": "text/x-python",
   "name": "python",
   "nbconvert_exporter": "python",
   "pygments_lexer": "ipython3",
   "version": "3.12.10"
  }
 },
 "nbformat": 4,
 "nbformat_minor": 5
}
