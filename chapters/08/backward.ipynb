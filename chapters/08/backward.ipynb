{
 "cells": [
  {
   "cell_type": "markdown",
   "id": "b5ee9972",
   "metadata": {},
   "source": [
    "(backward_compatibility)=\n",
    "# Backward Compatibility\n",
    "\n",
    "The legacy MOLASS program produces its analysis results in Excel books. We will explain here how to do the same in Molass Library. "
   ]
  },
  {
   "cell_type": "markdown",
   "id": "b082c0f4",
   "metadata": {},
   "source": [
    "## Learning Points\n",
    "* rgcurve = ssd.xr.compute_rgcurve()\n",
    "* ranges = decomposition.get_paired_ranges()\n",
    "* decomposition.plot_components(rgcurve=rgcurve, ranges=ranges)\n",
    "* rgcurve_atsas = ssd.xr.compute_rgcurve_atsas()\n",
    "* mapping = ssd.estimate_mapping()\n",
    "* conc_info = ssd.make_conc_info(mapping)\n",
    "* rg_info = rgcurve, rgcurve_atsas\n",
    "* make_v1report(ssd, conc_info=conc_info, rg_info=rg_info, lr_info=decomposition, ranges=ranges)"
   ]
  },
  {
   "cell_type": "markdown",
   "id": "7493d3f6",
   "metadata": {},
   "source": [
    "## Preparation for the Report\n",
    "\n",
    "Although it is possible to do it as well without any preparation (that is, implicitly all by default), we will show explicitly what to prepare in the hope that it will better serve as explanation and can be easy to modify.\n",
    "\n",
    "First, we will prepare rg curves and analysis ranges. "
   ]
  },
  {
   "cell_type": "code",
   "execution_count": null,
   "id": "6ecfe58f",
   "metadata": {},
   "outputs": [],
   "source": [
    "import sys\n",
    "sys.path.insert(0, '../../../molass-library')\n",
    "sys.path.insert(0, '../../../molass-legacy')\n",
    "from molass import get_version\n",
    "assert get_version() >= '0.3.0', \"This script requires molass version 0.3.0 or higher.\"\n",
    "from molass_data import SAMPLE1\n",
    "from molass.DataObjects import SecSaxsData as SSD\n",
    "ssd = SSD(SAMPLE1)\n",
    "trimmed_ssd = ssd.trimmed_copy()\n",
    "corrected_ssd = trimmed_ssd.corrected_copy()\n",
    "decomposition = corrected_ssd.quick_decomposition(num_components=3)\n",
    "plot5 = decomposition.plot_components(title=\"Decomposition of Sample1 (num_components=3)\")"
   ]
  },
  {
   "cell_type": "code",
   "execution_count": null,
   "id": "e644a964",
   "metadata": {},
   "outputs": [],
   "source": [
    "rgcurve = corrected_ssd.xr.compute_rgcurve()\n",
    "plot6 = decomposition.plot_components(title=\"Decomposition of Sample1 with Rg Curve\", rgcurve=rgcurve)"
   ]
  },
  {
   "cell_type": "code",
   "execution_count": null,
   "id": "ea1cb1e3",
   "metadata": {},
   "outputs": [],
   "source": [
    "pairedranges = decomposition.get_pairedranges()\n",
    "plot8 = decomposition.plot_components(title=\"Decomposition of Sample1 with Rg Curve and Paired Ranges\", rgcurve=rgcurve, ranges=pairedranges)"
   ]
  },
  {
   "cell_type": "code",
   "execution_count": null,
   "id": "99b34b8c",
   "metadata": {},
   "outputs": [],
   "source": [
    "rgcurve_atsas = corrected_ssd.xr.compute_rgcurve_atsas()"
   ]
  },
  {
   "cell_type": "markdown",
   "id": "cb451050",
   "metadata": {},
   "source": [
    "## Making the Excel Report\n",
    "\n",
    "To make the report, we also need the concentration information which can be prepared as follows."
   ]
  },
  {
   "cell_type": "code",
   "execution_count": null,
   "id": "130b22f0",
   "metadata": {},
   "outputs": [],
   "source": [
    "import molass.Reports.V1Report\n",
    "from importlib import reload\n",
    "reload(molass.Reports.V1Report)\n",
    "from molass.Reports.V1Report import make_v1report\n",
    "\n",
    "rgcurves = rgcurve, rgcurve_atsas\n",
    "make_v1report(corrected_ssd, rgcurves=rgcurves, decomposition=decomposition, ranges=pairedranges)"
   ]
  }
 ],
 "metadata": {
  "kernelspec": {
   "display_name": "Python 3",
   "language": "python",
   "name": "python3"
  },
  "language_info": {
   "codemirror_mode": {
    "name": "ipython",
    "version": 3
   },
   "file_extension": ".py",
   "mimetype": "text/x-python",
   "name": "python",
   "nbconvert_exporter": "python",
   "pygments_lexer": "ipython3",
   "version": "3.12.10"
  }
 },
 "nbformat": 4,
 "nbformat_minor": 5
}
