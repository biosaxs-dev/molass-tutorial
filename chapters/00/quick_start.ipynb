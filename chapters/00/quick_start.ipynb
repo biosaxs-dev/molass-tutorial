{
 "cells": [
  {
   "cell_type": "markdown",
   "id": "69f99630",
   "metadata": {
    "language": "markdown"
   },
   "source": []
  },
  {
   "cell_type": "markdown",
   "id": "7f94b9ff",
   "metadata": {},
   "source": [
    "# Quick Start\n",
    "\n",
    "Molass Library is designed to achieve the following motto:\n",
    "\n",
    "> Easy things should be easy, and hard things should be possible.\n",
    "\n",
    "which is a quote from Larry Wall, the creator of the Perl language.\n",
    "Although Perl gave way to Python and we will use Python, this motto is ubiquitous in software library design.\n",
    "\n",
    "Here in this chapter, we will show the easy part to give an idea of what it is all about.\n",
    "If the input data are well conditioned, this will suffice to get what you will expect in ordinary use.\n",
    "However, life is not so easy and that is why the hard part exists, which we will discuss in the later chapters.\n",
    "\n",
    "## Installation\n",
    "\n",
    "We assume you have already installed Python and you are familiar with [Jupyter Notebook](https://en.wikipedia.org/wiki/Project_Jupyter#Jupyter_Notebook).\n",
    "\n",
    "To install the Molass Library package, you can use pip as follows:\n",
    "\n",
    "```console\n",
    "pip install -U molass\n",
    "pip install -U molass_data\n",
    "```\n",
    "\n",
    "```{note}\n",
    "The molass_data package includes some data sets for this tutorial.\n",
    "```\n",
    "\n",
    "## Tools for Jupyter Notebooks\n",
    "\n",
    "For programming in Jupyter Notebooks, we recommend either of the following tools (other alternatives are also possible):\n",
    "\n",
    "* [Jupyter Lab](https://jupyter.org/)\n",
    "* [Jupyter Extension in VS Code](https://code.visualstudio.com/docs/datascience/jupyter-notebooks)\n",
    "\n",
    "We recommend using Jupyter notebooks mainly for the following reason:\n",
    "\n",
    "* Interactive Exploration with Visualization\n",
    "\n",
    "Notebooks let you write and run code in small, manageable cells. You can experiment with different parameters, immediately see the results, and iteratively refine your analysis—most importantly, **all of this without restarting your workflow from scratch**. This makes it easy to test ideas, debug, and learn by doing.\n"
   ]
  },
  {
   "cell_type": "markdown",
   "id": "e1a2cab3",
   "metadata": {},
   "source": [
    "## Straightforward Usage\n",
    "### Plot the Input Data\n",
    "\n",
    "We can plot the data set as follows. The format of this data set is specified in the chapter 4 of [MOLASS User's Guide](https://pfwww.kek.jp/saxs/software/MOLASS-UsersGuide-1_0_13.pdf).\n"
   ]
  },
  {
   "cell_type": "code",
   "execution_count": null,
   "id": "3ea722db",
   "metadata": {},
   "outputs": [],
   "source": [
    "from molass import get_version\n",
    "assert get_version() >= '0.2.0', \"This tutorial requires molass version 0.2.0 or higher.\"\n",
    "from molass_data import SAMPLE1\n",
    "from molass.DataObjects import SecSaxsData as SSD\n",
    "ssd = SSD(SAMPLE1)\n",
    "ssd.plot_3d(title=\"3D Plot of Sample1\");"
   ]
  },
  {
   "cell_type": "markdown",
   "id": "836d8145",
   "metadata": {},
   "source": [
    "### Trimming, Correction and LRF\n",
    "\n",
    "For simplicity, we assume here that the data set contains two components because we observe two chromatographic peaks, ignoring the bump observed on the right side of the first peak.\n",
    "To obtain a set of well-estimated scattering curves for each component, we usually need to apply three steps: trimming, baseline correction, and LRF (low rank factorization).\n",
    "We can execute these steps and show the results as follows. The details of each step will be explained in later chapters."
   ]
  },
  {
   "cell_type": "code",
   "execution_count": null,
   "id": "cda062ab",
   "metadata": {},
   "outputs": [],
   "source": [
    "trimmed_ssd = ssd.trimmed_copy()\n",
    "corrected_ssd = trimmed_ssd.corrected_copy()\n",
    "decomposition = corrected_ssd.quick_decomposition()\n",
    "decomposition.plot_components(title=\"Decomposition of Sample1\");"
   ]
  },
  {
   "cell_type": "markdown",
   "id": "92046520",
   "metadata": {},
   "source": [
    "### Running DENSS\n",
    "\n",
    "From the result of LRF, which is expressed as \"lrf_info\" here in the python code, we can obtain scattering curves of each component.\n",
    "Once you have a well-conditioned scattering curve, you can reconstruct the original electron density distribution using an appropriate SAXS tool.\n",
    "In Molass Library, you can use [DENSS](https://tdgrant.com/) directly as follows."
   ]
  },
  {
   "cell_type": "code",
   "execution_count": null,
   "id": "bf72ace4",
   "metadata": {},
   "outputs": [],
   "source": [
    "from molass.SAXS.DenssTools import run_denss\n",
    "# Get, for example, the first component's scattering curve as an array\n",
    "jcurve_array = decomposition.get_xr_components()[0].get_jcurve_array()\n",
    "output_folder = \"temp\"\n",
    "run_denss(jcurve_array, output_folder=output_folder)"
   ]
  },
  {
   "cell_type": "markdown",
   "id": "c69c7ac0",
   "metadata": {},
   "source": [
    "### Plotting the DENSS Result\n",
    "\n",
    "The DENSS result can be visualized as follows."
   ]
  },
  {
   "cell_type": "code",
   "execution_count": null,
   "id": "80dfbfaa",
   "metadata": {},
   "outputs": [],
   "source": [
    "import matplotlib.pyplot as plt\n",
    "from molass.SAXS.MrcViewer import show_mrc\n",
    "# Uncomment the following magic command line if you want to use an interactive plot in Jupyter Notebook\n",
    "# %matplotlib widget\n",
    "show_mrc(output_folder + '/denss_result.mrc');"
   ]
  },
  {
   "cell_type": "markdown",
   "id": "a82bfded",
   "metadata": {},
   "source": [
    "## How to Refine\n",
    "\n",
    "There are several aspects that can be improved, such as:\n",
    "\n",
    "1. Data Selection (Trimming)\n",
    "2. Baseline Correction\n",
    "3. Decomposition of Overlapping Peaks\n",
    "4. Interparticle Interactions (Concentration Dependence)\n",
    "\n",
    "In the straightforward usage shown above, the parameters on these factors are determined roughly in favor of simplicity and speed.\n",
    "\n",
    "However, if you want to be more precise and decide that the observed bump should be considered as a sign of a separate component, you can specify the number of components as follows."
   ]
  },
  {
   "cell_type": "code",
   "execution_count": null,
   "id": "c2cbb427",
   "metadata": {},
   "outputs": [],
   "source": [
    "simply_refined_decomposition = corrected_ssd.quick_decomposition(num_components=3)\n",
    "simply_refined_decomposition.plot_components(title=\"Simply Refined Decomposition of Sample1\");"
   ]
  },
  {
   "cell_type": "markdown",
   "id": "bd607a55",
   "metadata": {},
   "source": [
    "Molass Library provides several other options and methods for better estimation of scattering curves which we will discuss one by one in later chapters."
   ]
  },
  {
   "cell_type": "markdown",
   "id": "5ccc7eaf",
   "metadata": {},
   "source": [
    "## How to Export\n",
    "\n",
    "As we have passed the decomposed data to DENSS above, `jcurve_array` is the commonly used style which consists of the three column vectors, namely, [qvector, intensities, errors]. Do as follows, for example, to export the all decomposed scattering curves."
   ]
  },
  {
   "cell_type": "code",
   "execution_count": null,
   "id": "967595f6",
   "metadata": {},
   "outputs": [],
   "source": [
    "import numpy as np\n",
    "for i, comp in enumerate(simply_refined_decomposition.get_xr_components()):\n",
    "    jcurve_array = comp.get_jcurve_array()\n",
    "    np.savetxt(f\"component_{i+1}.dat\", jcurve_array)"
   ]
  },
  {
   "cell_type": "markdown",
   "id": "062e3eb8",
   "metadata": {},
   "source": [
    "## How to Customize\n",
    "\n",
    "If you want to try this straightforward usage for your data, you will probably need to cumstomize for your data. In such cases, see the [Customization](https://freesemt.github.io/molass-technical/chapters/01/customization.html) chapter in the [Molass Technical Report](https://freesemt.github.io/molass-technical/)."
   ]
  }
 ],
 "metadata": {
  "kernelspec": {
   "display_name": "Python 3",
   "language": "python",
   "name": "python3"
  },
  "language_info": {
   "codemirror_mode": {
    "name": "ipython",
    "version": 3
   },
   "file_extension": ".py",
   "mimetype": "text/x-python",
   "name": "python",
   "nbconvert_exporter": "python",
   "pygments_lexer": "ipython3",
   "version": "3.12.10"
  }
 },
 "nbformat": 4,
 "nbformat_minor": 5
}
