{
 "cells": [
  {
   "cell_type": "markdown",
   "id": "cbca7505",
   "metadata": {},
   "source": [
    "# Non-apparent Decomposition\n",
    "\n",
    "This chapter will discuss the cases where component peaks are not apparent.\n",
    "\n",
    "## Initial Observation\n",
    "\n",
    "Let us first observe such an example."
   ]
  },
  {
   "cell_type": "code",
   "execution_count": null,
   "id": "c69ddcc6",
   "metadata": {},
   "outputs": [],
   "source": [
    "from molass import get_version\n",
    "assert get_version() >= '0.6.0', \"This tutorial requires molass version 0.6.0 or higher.\"\n",
    "from molass_data import get_version\n",
    "assert get_version() >= '0.3.0', \"This tutorial requires molass_data version 0.3.0 or higher.\"\n",
    "from molass_data import SAMPLE4\n",
    "from molass.DataObjects import SecSaxsData as SSD\n",
    "ssd = SSD(SAMPLE4)\n",
    "trimmed_ssd = ssd.trimmed_copy()\n",
    "corrected_ssd = trimmed_ssd.corrected_copy()\n",
    "corrected_ssd.plot_compact()"
   ]
  },
  {
   "cell_type": "code",
   "execution_count": null,
   "id": "449e86b4",
   "metadata": {},
   "outputs": [],
   "source": [
    "rgcurve = corrected_ssd.xr.compute_rgcurve()\n",
    "decomposition = corrected_ssd.quick_decomposition(num_components=2)\n",
    "decomposition.plot_components(rgcurve=rgcurve)"
   ]
  },
  {
   "cell_type": "markdown",
   "id": "3ff55730",
   "metadata": {},
   "source": [
    "## Varied Binary Proportions\n",
    "\n",
    "If you are not sure about the default compositiun, you can compare the results with different proportions as follows."
   ]
  },
  {
   "cell_type": "code",
   "execution_count": null,
   "id": "4bdb3474",
   "metadata": {},
   "outputs": [],
   "source": [
    "import numpy as np\n",
    "num_trails = 8\n",
    "species1_proportions = np.ones(num_trails) * 3\n",
    "species2_proportions = np.linspace(1, 3, num_trails)\n",
    "proportions = np.array([species1_proportions, species2_proportions]).T\n",
    "proportions"
   ]
  },
  {
   "cell_type": "code",
   "execution_count": null,
   "id": "16796672",
   "metadata": {},
   "outputs": [],
   "source": [
    "corrected_ssd.plot_varied_decompositions(proportions, rgcurve=rgcurve, best=3)"
   ]
  },
  {
   "cell_type": "markdown",
   "id": "11d8664d",
   "metadata": {},
   "source": [
    "## Varied Tertiary Proportions\n",
    "\n",
    "If the existence of three components are suspected, do as follows."
   ]
  },
  {
   "cell_type": "code",
   "execution_count": null,
   "id": "a57a5e77",
   "metadata": {},
   "outputs": [],
   "source": [
    "species3_proportions = np.ones(num_trails) * 1\n",
    "proportions = np.array([species1_proportions, species2_proportions, species3_proportions]).T\n",
    "proportions\n"
   ]
  },
  {
   "cell_type": "code",
   "execution_count": null,
   "id": "485cd722",
   "metadata": {},
   "outputs": [],
   "source": [
    "corrected_ssd.plot_varied_decompositions(proportions, rgcurve=rgcurve, best=3)"
   ]
  }
 ],
 "metadata": {
  "kernelspec": {
   "display_name": "Python 3",
   "language": "python",
   "name": "python3"
  },
  "language_info": {
   "codemirror_mode": {
    "name": "ipython",
    "version": 3
   },
   "file_extension": ".py",
   "mimetype": "text/x-python",
   "name": "python",
   "nbconvert_exporter": "python",
   "pygments_lexer": "ipython3",
   "version": "3.12.10"
  }
 },
 "nbformat": 4,
 "nbformat_minor": 5
}
