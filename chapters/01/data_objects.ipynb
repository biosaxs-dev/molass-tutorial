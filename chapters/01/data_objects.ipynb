{
 "cells": [
  {
   "cell_type": "markdown",
   "id": "b75b653f",
   "metadata": {
    "language": "markdown"
   },
   "source": [
    "# Data Objects\n",
    "\n",
    "To begin with, as we have seen in the prvious chapter, we have to express what to analyze, the data. We will introduce some basic data objects here.\n",
    "\n",
    "If you need to know more about the data, see also [Data Illustration](https://nshimizu0721.github.io/molass-essence/chapters/01/data-illust.html).\n",
    "\n",
    "## Learning Points\n",
    "\n",
    "In this chapter, you will learn about:\n",
    "\n",
    "* Importing necessary modules\n",
    "* SEC-SAXS data objects\n",
    "* How to plot data\n",
    "* Elution curves\n",
    "* Spectral curves"
   ]
  },
  {
   "cell_type": "markdown",
   "id": "5143de96",
   "metadata": {},
   "source": [
    "\n",
    "## SEC-SAXS Data"
   ]
  },
  {
   "cell_type": "code",
   "execution_count": null,
   "id": "6c061c84",
   "metadata": {
    "language": "python"
   },
   "outputs": [],
   "source": [
    "from molass import get_version\n",
    "assert get_version() >= '0.2.0', \"This tutorial requires molass version 0.2.0 or higher.\"\n",
    "import matplotlib.pyplot as plt\n",
    "from molass_data import SAMPLE1"
   ]
  },
  {
   "cell_type": "markdown",
   "id": "e1c6e1b7",
   "metadata": {
    "language": "markdown"
   },
   "source": [
    "The following code loads a data set from a SEC-SAXS experiment and displays a 3D plot of the dataset. This helps visualize the relationship between elution time, scattering angle, and intensity."
   ]
  },
  {
   "cell_type": "code",
   "execution_count": null,
   "id": "c2d79e8a",
   "metadata": {
    "language": "python"
   },
   "outputs": [],
   "source": [
    "from molass.DataObjects import SecSaxsData as SSD\n",
    "ssd = SSD(SAMPLE1)\n",
    "ssd.plot_3d(title=\"3D Plot of Sample1\");"
   ]
  },
  {
   "cell_type": "markdown",
   "id": "f28832e6",
   "metadata": {
    "language": "markdown"
   },
   "source": [
    "In the 3D plot, you understand the whole structure of the data set and how it changes over time. Note that `SAMPLE1` variable has the folder path where the tutorial data set is located.\n",
    "\n",
    "It is often more handy if you see it in a compact 2D plot as follows."
   ]
  },
  {
   "cell_type": "code",
   "execution_count": null,
   "id": "baa00d46",
   "metadata": {},
   "outputs": [],
   "source": [
    "ssd.plot_compact(title=\"Compact Plot of Sample1\");"
   ]
  },
  {
   "cell_type": "markdown",
   "id": "beee82c9",
   "metadata": {},
   "source": [
    "Note that the yellow vertical lines indicate the positions where other 2D plots have picked the data to draw.\n",
    "\n",
    "Note also that this compact plot is possible only after the temporal mapping[^1] between UV and XR (X-ray) data has been established, which can be easily understood when you remind the fact that frame indecies for UV ranged between 0 and 600.\n",
    "\n",
    "[^1]: For details on this mapping, see [Mapping between UV and X-ray Data](https://freesemt.github.io/molass-technical/chapters/30/mapping.html)."
   ]
  },
  {
   "cell_type": "markdown",
   "id": "1c1d21f0",
   "metadata": {},
   "source": [
    "Observing the following plot, confirm the ralation between the 3D and 2D plots."
   ]
  },
  {
   "cell_type": "code",
   "execution_count": null,
   "id": "248941f6",
   "metadata": {},
   "outputs": [],
   "source": [
    "ssd.plot_3d(title=\"Section Lines where the 2D Plots Intersect\", with_2d_section_lines=True);"
   ]
  },
  {
   "cell_type": "markdown",
   "id": "691bdf39",
   "metadata": {},
   "source": [
    "To summarize, SSD (SEC-SAXS Data Set) objects provide basic utilities to grasp the data set as a whole and serve as the starting point of your analysis, from where you can derive subsequent objects required for further analysis. We will explore some of such derivations and basic matplotlib usages for them in the following sections."
   ]
  },
  {
   "cell_type": "markdown",
   "id": "f7c2e6e1",
   "metadata": {
    "language": "markdown"
   },
   "source": [
    "## Elution Curves\n",
    "\n",
    "An **elution curve** shows how the signal (such as absorbance or scattering intensity) changes as a function of elution time or eluted volume during a chromatography experiment. In SEC-SAXS, both UV absorbance and X-ray intensity elution curves are observed."
   ]
  },
  {
   "cell_type": "markdown",
   "id": "33b4a119",
   "metadata": {
    "language": "markdown"
   },
   "source": [
    "Let's extract and plot the elution curves for both X-ray scattering and UV absorbance.\n",
    "\n",
    "For X-ray data, elution curves are picked, by default, at Q=0.02 [Å⁻¹]."
   ]
  },
  {
   "cell_type": "code",
   "execution_count": null,
   "id": "2cd0827d",
   "metadata": {
    "language": "python"
   },
   "outputs": [],
   "source": [
    "xr_icurve = ssd.xr.get_icurve()\n",
    "plt.plot(xr_icurve.x, xr_icurve.y)\n",
    "plt.title('X-ray Intensity Elution Curve')\n",
    "plt.xlabel('Elution Time (or Volume)')\n",
    "plt.ylabel('Intensity')\n",
    "plt.show()"
   ]
  },
  {
   "cell_type": "markdown",
   "id": "fd3e2068",
   "metadata": {},
   "source": [
    "For UV data, elution curves are picked, by default, at wavelength=280 [nm]."
   ]
  },
  {
   "cell_type": "code",
   "execution_count": null,
   "id": "09ade2a8",
   "metadata": {
    "language": "python"
   },
   "outputs": [],
   "source": [
    "uv_icurve = ssd.uv.get_icurve()\n",
    "plt.plot(uv_icurve.x, uv_icurve.y)\n",
    "plt.title('UV Absorbance Elution Curve')\n",
    "plt.xlabel('Elution Time (or Volume)')\n",
    "plt.ylabel('Absorbance')\n",
    "plt.show()"
   ]
  },
  {
   "cell_type": "markdown",
   "id": "c1e9e7a2",
   "metadata": {
    "language": "markdown"
   },
   "source": [
    "Another plot example with two subplots: one for the X-ray scattering elution curve and one for the UV absorbance elution curve."
   ]
  },
  {
   "cell_type": "code",
   "execution_count": null,
   "id": "89b530e0",
   "metadata": {
    "language": "python"
   },
   "outputs": [],
   "source": [
    "fig, (ax1, ax2) = plt.subplots(ncols=2, figsize=(12,5))\n",
    "ax1.plot(uv_icurve.x, uv_icurve.y)\n",
    "ax1.set_title('UV Absorbance')\n",
    "ax2.plot(xr_icurve.x, xr_icurve.y)\n",
    "ax2.set_title('X-ray Intensity')\n",
    "plt.show()"
   ]
  },
  {
   "cell_type": "markdown",
   "id": "aba30479",
   "metadata": {
    "language": "markdown"
   },
   "source": [
    "## Peak Positions\n",
    "\n",
    "To analyze the data further, let's find the peak positions in both elution curves. We use **integer array indexing** for NumPy arrays to highlight the peaks."
   ]
  },
  {
   "cell_type": "code",
   "execution_count": null,
   "id": "7b6dc64f",
   "metadata": {
    "language": "python"
   },
   "outputs": [],
   "source": [
    "uv_peaks = uv_icurve.get_peaks()\n",
    "xr_peaks = xr_icurve.get_peaks()\n",
    "uv_peaks, xr_peaks"
   ]
  },
  {
   "cell_type": "markdown",
   "id": "e3456b1f",
   "metadata": {
    "language": "markdown"
   },
   "source": [
    "Now, let's plot the elution curves again and mark the peak positions."
   ]
  },
  {
   "cell_type": "code",
   "execution_count": null,
   "id": "855d165f",
   "metadata": {
    "language": "python"
   },
   "outputs": [],
   "source": [
    "fig, (ax1, ax2) = plt.subplots(ncols=2, figsize=(12,5))\n",
    "ax1.plot(uv_icurve.x, uv_icurve.y)\n",
    "ax1.plot(uv_icurve.x[uv_peaks], uv_icurve.y[uv_peaks], 'o', label='Peaks')\n",
    "ax1.set_title('UV Absorbance')\n",
    "ax2.plot(xr_icurve.x, xr_icurve.y)\n",
    "ax2.plot(xr_icurve.x[xr_peaks], xr_icurve.y[xr_peaks], 'o', label='Peaks')\n",
    "ax2.set_title('X-ray Intensity')\n",
    "plt.show()"
   ]
  },
  {
   "cell_type": "markdown",
   "id": "b6e0e2f2",
   "metadata": {
    "language": "markdown"
   },
   "source": [
    "The circles on the plots indicate the detected peak positions.\n",
    "\n",
    "* [Colors in the default property cycle](https://matplotlib.org/stable/gallery/color/color_cycle_default.html)"
   ]
  },
  {
   "cell_type": "markdown",
   "id": "89947aa7",
   "metadata": {
    "language": "markdown"
   },
   "source": [
    "## Spectral Curves\n",
    "\n",
    "```{note}\n",
    "Here, we use \"spectral\" to mean either of the following two types of curves, for simplicity.\n",
    "```\n",
    "\n",
    "### Absorbance Spectra\n",
    "\n",
    "For each detected peak in the UV absorbance elution curve, let's plot the corresponding absorbance spectrum."
   ]
  },
  {
   "cell_type": "code",
   "execution_count": null,
   "id": "c6ead76c",
   "metadata": {
    "language": "python"
   },
   "outputs": [],
   "source": [
    "for j in uv_peaks:\n",
    "    uv_jcurve = ssd.uv.get_jcurve(j=j)\n",
    "    plt.plot(uv_jcurve.x, uv_jcurve.y)\n",
    "plt.title('Absorbance Spectra at Peak Positions')\n",
    "plt.xlabel('Wavelength (or other x-axis label)')\n",
    "plt.ylabel('Absorbance')\n",
    "plt.show()"
   ]
  },
  {
   "cell_type": "markdown",
   "id": "a8e27f52",
   "metadata": {
    "language": "markdown"
   },
   "source": [
    "### Scattering Curves\n",
    "\n",
    "Similarly, for each detected peak in the X-ray scattering elution curve, let's plot the corresponding scattering curve."
   ]
  },
  {
   "cell_type": "code",
   "execution_count": null,
   "id": "c35466d2",
   "metadata": {
    "language": "python"
   },
   "outputs": [],
   "source": [
    "for j in xr_peaks:\n",
    "    xr_jcurve = ssd.xr.get_jcurve(j=j)\n",
    "    plt.plot(xr_jcurve.x, xr_jcurve.y)\n",
    "plt.title('Scattering Curves at Peak Positions')\n",
    "plt.xlabel('q (or other x-axis label)')\n",
    "plt.ylabel('Intensity')\n",
    "plt.show()"
   ]
  },
  {
   "cell_type": "markdown",
   "id": "42bb0399",
   "metadata": {},
   "source": [
    "```{note}\n",
    "You may have noticed that the curves include negative values which are invalid. The treatment of those values will be discussed in the following chapter.  \n",
    "```"
   ]
  },
  {
   "cell_type": "markdown",
   "id": "39e7d5f4",
   "metadata": {
    "language": "markdown"
   },
   "source": [
    "We use `plt.subplots` here because there is no `plt.set_yscale()` function. Let's plot the scattering curves on a logarithmic y-scale for better visualization."
   ]
  },
  {
   "cell_type": "code",
   "execution_count": null,
   "id": "f1022522",
   "metadata": {
    "language": "python"
   },
   "outputs": [],
   "source": [
    "fig, ax = plt.subplots()\n",
    "ax.set_yscale('log')\n",
    "for j in xr_peaks:\n",
    "    xr_jcurve = ssd.xr.get_jcurve(j=j)\n",
    "    ax.plot(xr_jcurve.x, xr_jcurve.y)\n",
    "ax.set_title('Scattering Curves (log scale)')\n",
    "ax.set_xlabel('q (or other x-axis label)')\n",
    "ax.set_ylabel('Scattering Intensity')\n",
    "plt.show()"
   ]
  },
  {
   "cell_type": "markdown",
   "id": "ac30cfad",
   "metadata": {
    "language": "markdown"
   },
   "source": [
    "## Python Basics\n",
    "\n",
    "We assume you are already familiar with Python basics. If not, see the following pages for example.\n",
    "\n",
    "* [Introduction to Python - QuTiP Tutorial](https://nbviewer.org/urls/qutip.org/qutip-tutorials/tutorials-v5/python-introduction/001_Beginning_Python.ipynb)\n",
    "* [Introduction to NumPy Arrays - QuTiP Tutorial](https://nbviewer.org/urls/qutip.org/qutip-tutorials/tutorials-v5/python-introduction/002_NumPy_Array_Basics.ipynb)"
   ]
  }
 ],
 "metadata": {
  "kernelspec": {
   "display_name": "Python 3",
   "language": "python",
   "name": "python3"
  },
  "language_info": {
   "codemirror_mode": {
    "name": "ipython",
    "version": 3
   },
   "file_extension": ".py",
   "mimetype": "text/x-python",
   "name": "python",
   "nbconvert_exporter": "python",
   "pygments_lexer": "ipython3",
   "version": "3.12.10"
  }
 },
 "nbformat": 4,
 "nbformat_minor": 5
}
